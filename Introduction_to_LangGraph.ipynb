{
  "cells": [
    {
      "cell_type": "code",
      "execution_count": null,
      "metadata": {
        "id": "DwLAr3bz5duG",
        "outputId": "96534d36-243a-43a9-d005-eb25cdeefa19"
      },
      "outputs": [
        {
          "name": "stdout",
          "output_type": "stream",
          "text": [
            "Note: you may need to restart the kernel to use updated packages.\n"
          ]
        },
        {
          "data": {
            "text/plain": [
              "True"
            ]
          },
          "execution_count": 19,
          "metadata": {},
          "output_type": "execute_result"
        }
      ],
      "source": [
        "%pip install -Uq python-dotenv\n",
        "\n",
        "from dotenv import load_dotenv\n",
        "load_dotenv(\"../.env\")"
      ]
    },
    {
      "cell_type": "code",
      "execution_count": null,
      "metadata": {
        "id": "WJdmc3uF5duH",
        "outputId": "3fb19834-9572-4226-bade-56525eba891e"
      },
      "outputs": [
        {
          "name": "stdout",
          "output_type": "stream",
          "text": [
            "Note: you may need to restart the kernel to use updated packages.\n"
          ]
        }
      ],
      "source": [
        "%pip install -Uq langgraph"
      ]
    },
    {
      "cell_type": "markdown",
      "metadata": {
        "id": "j6pLfE2v5duH"
      },
      "source": [
        "The state is going to be the constant data across your runs. We will define its schema here. In this case, it is going to be a simple string. In reality, this will encapsulate other important things, such as the mesasge history or its chain of thought."
      ]
    },
    {
      "cell_type": "code",
      "execution_count": null,
      "metadata": {
        "id": "d8T4wDlD5duI"
      },
      "outputs": [],
      "source": [
        "from typing_extensions import TypedDict\n",
        "\n",
        "class State(TypedDict):\n",
        "    my_state: str"
      ]
    },
    {
      "cell_type": "markdown",
      "metadata": {
        "id": "mlGcHE4s5duI"
      },
      "source": [
        "### Nodes\n",
        "\n",
        "These are simple python functions.\n",
        "Each of them takes the state of your bot as input and returns a new state. Since we are passing the state, we can access the properties of the state within it and modify them. In this case, we can access the property \"my_state\".\n",
        "\n",
        "Each node returns a new value of the state. Each time, we are actually overriding the state of the bot."
      ]
    },
    {
      "cell_type": "code",
      "execution_count": null,
      "metadata": {
        "id": "dwBbpBDI5duI"
      },
      "outputs": [],
      "source": [
        "def node_1(state):\n",
        "  print(f\"node_1: {state['my_state']}\")\n",
        "  new_state = {\"my_state\": state['my_state'] + \"I want to travel to \"}\n",
        "\n",
        "  return new_state\n",
        "\n",
        "def node_2(state):\n",
        "  print(f\"node_2: {state['my_state']}\")\n",
        "  new_state = {\"my_state\": state[\"my_state\"] + \"Germany!\"}\n",
        "  return new_state\n",
        "\n",
        "def node_3(state):\n",
        "  print(f\"node_3: {state['my_state']}\")\n",
        "  new_state = {\"my_state\": state[\"my_state\"] + \"Italy!\"}\n",
        "  return new_state"
      ]
    },
    {
      "cell_type": "markdown",
      "metadata": {
        "id": "MCWWSutg5duI"
      },
      "source": [
        "### Edges\n",
        "\n",
        "Edges are the connectors between nodes. There are two types of edges:\n",
        "- Normal edges: Always connect two nodes.\n",
        "- Conditional edges: Connect two nodes based on a condition.\n",
        "\n",
        "To use conditional edges, you will need to define a function that will act as the condition."
      ]
    },
    {
      "cell_type": "code",
      "execution_count": null,
      "metadata": {
        "id": "Dh1AWwIG5duI"
      },
      "outputs": [],
      "source": [
        "import random\n",
        "from typing import Literal\n",
        "\n",
        "def decide_destination(state: State) -> Literal[\"node_2\", \"node_3\"]:\n",
        "    return random.choice([\"node_2\", \"node_3\"])"
      ]
    },
    {
      "cell_type": "markdown",
      "metadata": {
        "id": "RExFl1C65duI"
      },
      "source": [
        "### Connect the nodes\n",
        "\n",
        "We can connect the nodes together"
      ]
    },
    {
      "cell_type": "code",
      "execution_count": null,
      "metadata": {
        "id": "VFoZFgUF5duI",
        "outputId": "10a9ad8a-ff7b-4266-ed9c-8b0f57afc866"
      },
      "outputs": [
        {
          "data": {
            "image/jpeg": "[encoded data removed]",
            "text/plain": [
              "<IPython.core.display.Image object>"
            ]
          },
          "metadata": {},
          "output_type": "display_data"
        }
      ],
      "source": [
        "# create our graph\n",
        "\n",
        "from IPython.display import Image, display\n",
        "from langgraph.graph import StateGraph, START, END\n",
        "\n",
        "# build graph and add nodes\n",
        "builder = StateGraph(State)\n",
        "builder.add_node(\"node_1\", node_1)\n",
        "builder.add_node(\"node_2\", node_2)\n",
        "builder.add_node(\"node_3\", node_3)\n",
        "\n",
        "# add edges\n",
        "builder.add_edge(START, \"node_1\")\n",
        "builder.add_conditional_edges(\"node_1\", decide_destination)\n",
        "builder.add_edge(\"node_2\", END)\n",
        "builder.add_edge(\"node_3\", END)\n",
        "\n",
        "# compile\n",
        "graph = builder.compile()\n",
        "\n",
        "# view mermaid graph\n",
        "display(Image(graph.get_graph().draw_mermaid_png()))"
      ]
    },
    {
      "cell_type": "code",
      "execution_count": null,
      "metadata": {
        "id": "JOR5WCMV5duI",
        "outputId": "be2bdaa9-289d-4f94-ff70-ecd4896aded2"
      },
      "outputs": [
        {
          "name": "stdout",
          "output_type": "stream",
          "text": [
            "node_1: Hello there. \n",
            "node_2: Hello there. I want to travel to \n"
          ]
        },
        {
          "data": {
            "text/plain": [
              "{'my_state': 'Hello there. I want to travel to Germany!'}"
            ]
          },
          "execution_count": 37,
          "metadata": {},
          "output_type": "execute_result"
        }
      ],
      "source": [
        "# a graph is a runnable\n",
        "\n",
        "graph.invoke({\n",
        "  \"my_state\": \"Hello there. \"\n",
        "})"
      ]
    },
    {
      "cell_type": "markdown",
      "metadata": {
        "id": "1tzjWQvL5duI"
      },
      "source": [
        "### Tool usage"
      ]
    },
    {
      "cell_type": "code",
      "execution_count": null,
      "metadata": {
        "id": "POWW-2Xb5duJ",
        "outputId": "b7b4cbe8-dc2f-4fe0-87d9-84cb5a8c67fe"
      },
      "outputs": [
        {
          "name": "stdout",
          "output_type": "stream",
          "text": [
            "Note: you may need to restart the kernel to use updated packages.\n"
          ]
        }
      ],
      "source": [
        "%pip install -Uq langchain langchain-openai"
      ]
    },
    {
      "cell_type": "code",
      "execution_count": null,
      "metadata": {
        "id": "GLWNO3Rd5duJ"
      },
      "outputs": [],
      "source": [
        "import os\n",
        "import getpass\n",
        "\n",
        "if \"OPENAI_API_KEY\" not in os.environ:\n",
        "  os.environ[\"OPENAI_API_KEY\"] = getpass.getpass(\"Enter your OpenAI API key: \")"
      ]
    },
    {
      "cell_type": "code",
      "execution_count": null,
      "metadata": {
        "id": "9xar3rXi5duJ"
      },
      "outputs": [],
      "source": [
        "from langchain_openai import ChatOpenAI\n",
        "\n",
        "def multiply(a: int, b: int) -> int:\n",
        "    \"\"\"\n",
        "    Multiply two numbers\n",
        "\n",
        "    Args:\n",
        "    a: The first number\n",
        "    b: The second number\n",
        "    \"\"\"\n",
        "    return a * b\n",
        "\n",
        "llm = ChatOpenAI(model=\"gpt-4o-mini\")\n",
        "tools = [multiply]\n",
        "llm_with_tools = llm.bind_tools(tools)"
      ]
    },
    {
      "cell_type": "code",
      "execution_count": null,
      "metadata": {
        "id": "ZFOkU3v_5duJ",
        "outputId": "01b596d2-e0f7-4eb3-9c57-23f7d23203fd"
      },
      "outputs": [
        {
          "name": "stdout",
          "output_type": "stream",
          "text": [
            "{'bound': ChatOpenAI(client=<openai.resources.chat.completions.Completions object at 0x11f5ede50>, async_client=<openai.resources.chat.completions.AsyncCompletions object at 0x11f5ef380>, root_client=<openai.OpenAI object at 0x11f475dc0>, root_async_client=<openai.AsyncOpenAI object at 0x11f475c70>, model_name='gpt-4o-mini', model_kwargs={}, openai_api_key=SecretStr('**********')),\n",
            " 'config': {},\n",
            " 'config_factories': [],\n",
            " 'custom_input_type': None,\n",
            " 'custom_output_type': None,\n",
            " 'kwargs': {'tools': [{'function': {'description': 'Multiply two numbers',\n",
            "                                    'name': 'multiply',\n",
            "                                    'parameters': {'properties': {'a': {'description': 'The '\n",
            "                                                                                       'first '\n",
            "                                                                                       'number',\n",
            "                                                                        'type': 'integer'},\n",
            "                                                                  'b': {'description': 'The '\n",
            "                                                                                       'second '\n",
            "                                                                                       'number',\n",
            "                                                                        'type': 'integer'}},\n",
            "                                                   'required': ['a', 'b'],\n",
            "                                                   'type': 'object'}},\n",
            "                       'type': 'function'}]},\n",
            " 'name': None}\n"
          ]
        }
      ],
      "source": [
        "from pprint import pprint\n",
        "\n",
        "pprint(llm_with_tools.__dict__)"
      ]
    },
    {
      "cell_type": "code",
      "execution_count": null,
      "metadata": {
        "id": "jWasEsKa5duJ",
        "outputId": "d2dff8c5-ae1a-4e74-9c3d-52c6894a8fcf"
      },
      "outputs": [
        {
          "name": "stdout",
          "output_type": "stream",
          "text": [
            "{'additional_kwargs': {'refusal': None},\n",
            " 'content': 'A neural network is a computational model inspired by the way '\n",
            "            'biological neural networks in the human brain process '\n",
            "            'information. It consists of interconnected groups of nodes, or '\n",
            "            '\"neurons,\" which work together to solve specific problems. '\n",
            "            \"Here's a breakdown of its key components and principles:\\n\"\n",
            "            '\\n'\n",
            "            '1. **Structure**:\\n'\n",
            "            '   - **Input Layer**: This layer receives the initial data or '\n",
            "            'input features.\\n'\n",
            "            '   - **Hidden Layers**: One or more layers between the input and '\n",
            "            'output layers where the processing occurs. Each neuron in these '\n",
            "            'layers applies a transformation to the inputs it receives.\\n'\n",
            "            '   - **Output Layer**: This layer produces the final output or '\n",
            "            'prediction based on the computations done in the previous '\n",
            "            'layers.\\n'\n",
            "            '\\n'\n",
            "            '2. **Neurons**: Each neuron in a neural network takes inputs, '\n",
            "            'applies a weighted sum followed by a non-linear activation '\n",
            "            'function, and passes the result to the next layer. The weights '\n",
            "            'are adjusted during training to minimize the error in '\n",
            "            'predictions.\\n'\n",
            "            '\\n'\n",
            "            '3. **Activation Functions**: These functions introduce '\n",
            "            'non-linearity into the model, allowing it to learn complex '\n",
            "            'patterns. Common activation functions include ReLU (Rectified '\n",
            "            'Linear Unit), Sigmoid, and Tanh.\\n'\n",
            "            '\\n'\n",
            "            '4. **Training**: Neural networks learn from data through a '\n",
            "            'process called backpropagation. During training, the model makes '\n",
            "            'predictions, calculates the error (loss), and adjusts the weights '\n",
            "            'to minimize this error using optimization algorithms like '\n",
            "            'gradient descent.\\n'\n",
            "            '\\n'\n",
            "            '5. **Applications**: Neural networks are widely used in various '\n",
            "            'fields, including image and speech recognition, natural language '\n",
            "            'processing, and game playing, among others.\\n'\n",
            "            '\\n'\n",
            "            'Overall, neural networks are powerful tools for modeling complex '\n",
            "            'relationships in data and have become a foundational technology '\n",
            "            'in the field of machine learning and artificial intelligence.',\n",
            " 'example': False,\n",
            " 'id': 'run-100b78e3-00cd-41d3-9ae4-e01339880dd1-0',\n",
            " 'invalid_tool_calls': [],\n",
            " 'name': None,\n",
            " 'response_metadata': {'finish_reason': 'stop',\n",
            "                       'logprobs': None,\n",
            "                       'model_name': 'gpt-4o-mini-2024-07-18',\n",
            "                       'system_fingerprint': 'fp_f59a81427f',\n",
            "                       'token_usage': {'completion_tokens': 339,\n",
            "                                       'completion_tokens_details': {'audio_tokens': None,\n",
            "                                                                     'reasoning_tokens': 0},\n",
            "                                       'prompt_tokens': 59,\n",
            "                                       'prompt_tokens_details': {'audio_tokens': None,\n",
            "                                                                 'cached_tokens': 0},\n",
            "                                       'total_tokens': 398}},\n",
            " 'tool_calls': [],\n",
            " 'type': 'ai',\n",
            " 'usage_metadata': {'input_token_details': {'cache_read': 0},\n",
            "                    'input_tokens': 59,\n",
            "                    'output_token_details': {'reasoning': 0},\n",
            "                    'output_tokens': 339,\n",
            "                    'total_tokens': 398}}\n"
          ]
        }
      ],
      "source": [
        "# calling the model with the tools (no tool required)\n",
        "\n",
        "response = llm_with_tools.invoke(\"what is a neural network?\")\n",
        "pprint(response.__dict__)"
      ]
    },
    {
      "cell_type": "code",
      "execution_count": null,
      "metadata": {
        "id": "1zcbHZKq5duJ"
      },
      "outputs": [],
      "source": [
        "# calling the model with the tools (tool required)\n",
        "\n",
        "response = llm_with_tools.invoke(\"multiply 3 by 4\")"
      ]
    },
    {
      "cell_type": "code",
      "execution_count": null,
      "metadata": {
        "id": "WFtbct6I5duJ",
        "outputId": "c87dadb3-b9c9-4058-d16c-6c71f98386d7"
      },
      "outputs": [
        {
          "name": "stdout",
          "output_type": "stream",
          "text": [
            "{'additional_kwargs': {'refusal': None,\n",
            "                       'tool_calls': [{'function': {'arguments': '{\"a\":3,\"b\":4}',\n",
            "                                                    'name': 'multiply'},\n",
            "                                       'id': 'call_1ssjFiG8PZtOrEu3mJwmBUQr',\n",
            "                                       'type': 'function'}]},\n",
            " 'content': '',\n",
            " 'example': False,\n",
            " 'id': 'run-cc383c52-35b4-44ce-ae62-076d99b59f95-0',\n",
            " 'invalid_tool_calls': [],\n",
            " 'name': None,\n",
            " 'response_metadata': {'finish_reason': 'tool_calls',\n",
            "                       'logprobs': None,\n",
            "                       'model_name': 'gpt-4o-mini-2024-07-18',\n",
            "                       'system_fingerprint': 'fp_f59a81427f',\n",
            "                       'token_usage': {'completion_tokens': 17,\n",
            "                                       'completion_tokens_details': {'audio_tokens': None,\n",
            "                                                                     'reasoning_tokens': 0},\n",
            "                                       'prompt_tokens': 59,\n",
            "                                       'prompt_tokens_details': {'audio_tokens': None,\n",
            "                                                                 'cached_tokens': 0},\n",
            "                                       'total_tokens': 76}},\n",
            " 'tool_calls': [{'args': {'a': 3, 'b': 4},\n",
            "                 'id': 'call_1ssjFiG8PZtOrEu3mJwmBUQr',\n",
            "                 'name': 'multiply',\n",
            "                 'type': 'tool_call'}],\n",
            " 'type': 'ai',\n",
            " 'usage_metadata': {'input_token_details': {'cache_read': 0},\n",
            "                    'input_tokens': 59,\n",
            "                    'output_token_details': {'reasoning': 0},\n",
            "                    'output_tokens': 17,\n",
            "                    'total_tokens': 76}}\n"
          ]
        }
      ],
      "source": [
        "pprint(response.__dict__)"
      ]
    },
    {
      "cell_type": "code",
      "execution_count": null,
      "metadata": {
        "id": "T1FnJWl25duJ"
      },
      "outputs": [],
      "source": [
        "from typing_extensions import TypedDict\n",
        "from langchain_core.messages import BaseMessage\n",
        "\n",
        "class MessagesState(TypedDict):\n",
        "    messages: list[BaseMessage]"
      ]
    },
    {
      "cell_type": "markdown",
      "metadata": {
        "id": "7NtWYPoP5duJ"
      },
      "source": [
        "### Reducers (optional)\n",
        "\n",
        "Remember that the value returned by a node overrides the state. That's why we were\n",
        "appending new data to the state in the examples above.\n",
        "\n",
        "Langgraph provides a way to do this without having to manually append data to the state. These are called reducers.\n",
        "\n",
        "These are, essentially, just functions that tell langgraph how the state\n",
        "should be updated when a new node returns something.\n",
        "\n",
        "All you need to do is define a function that defines how the new data should be added to the state. A common pattern is to keep the LLM message history in the state. In this case, a useful reducer would be one that appends the new message to the history.\n",
        "\n",
        "That's what the `add_messages` reducer does. It comes built-in with langgraph.\n",
        "\n",
        "Langgraph uses a hack with `Annotated` to allow for passing a reducer to the graph."
      ]
    },
    {
      "cell_type": "code",
      "execution_count": null,
      "metadata": {
        "id": "Ha7eDEF75duJ"
      },
      "outputs": [],
      "source": [
        "# from langgraph.graph.message import add_messages\n",
        "# from typing_extensions import TypedDict, Annotated\n",
        "\n",
        "# # langgraph uses a hack with Annotated to allow for reducer functions\n",
        "# class MessagesState(TypedDict):\n",
        "#     messages: Annotated[list[BaseMessage], add_messages]"
      ]
    },
    {
      "cell_type": "code",
      "execution_count": null,
      "metadata": {
        "id": "cfcYwCJP5duJ",
        "outputId": "88cc77be-a5e8-4fad-cd7b-b44b28993c28"
      },
      "outputs": [
        {
          "data": {
            "image/jpeg": "[encoded data removed]",
            "text/plain": [
              "<IPython.core.display.Image object>"
            ]
          },
          "metadata": {},
          "output_type": "display_data"
        }
      ],
      "source": [
        "from IPython.display import Image, display\n",
        "from langgraph.graph import StateGraph, START, END\n",
        "from langgraph.graph import MessagesState\n",
        "from langchain_core.messages import AIMessage, HumanMessage\n",
        "\n",
        "initial_state = [\n",
        "  AIMessage(content=\"Hello, I am Sherlock Holmes.\"),\n",
        "  HumanMessage(content=\"Hi, I am John Watson. how do you solve a mystery?\")\n",
        "]\n",
        "\n",
        "# node\n",
        "def tool_calling_node(state: MessagesState):\n",
        "    print(\"#\" * 80)\n",
        "    print(\"ENTERING LLM NODE - INPUT MESSAGES\")\n",
        "\n",
        "    for message in state[\"messages\"]:\n",
        "        message.pretty_print()\n",
        "    response = llm_with_tools.invoke(state[\"messages\"])\n",
        "\n",
        "    print()\n",
        "    print (\"#\" * 80)\n",
        "    print(\"LEAVING LLM NODE - OUTPUT MESSAGES\")\n",
        "\n",
        "    response.pretty_print()\n",
        "\n",
        "    return {\"messages\": response}\n",
        "\n",
        "builder = StateGraph(MessagesState)\n",
        "\n",
        "builder.add_node(\"tool_calling_node\", tool_calling_node)\n",
        "builder.add_edge(START, \"tool_calling_node\")\n",
        "builder.add_edge(\"tool_calling_node\", END)\n",
        "\n",
        "graph = builder.compile()\n",
        "\n",
        "# mermaid graph\n",
        "display(Image(graph.get_graph().draw_mermaid_png()))\n"
      ]
    },
    {
      "cell_type": "code",
      "execution_count": null,
      "metadata": {
        "id": "PavKYcjL5duJ",
        "outputId": "9e6f5a2f-d491-402e-dc06-1995ac7e1eff"
      },
      "outputs": [
        {
          "name": "stdout",
          "output_type": "stream",
          "text": [
            "################################################################################\n",
            "ENTERING LLM NODE - INPUT MESSAGES\n",
            "==================================\u001b[1m Ai Message \u001b[0m==================================\n",
            "\n",
            "Hello, I am Sherlock Holmes.\n",
            "================================\u001b[1m Human Message \u001b[0m=================================\n",
            "\n",
            "Hi, I am John Watson. how do you solve a mystery?\n",
            "\n",
            "################################################################################\n",
            "LEAVING LLM NODE - OUTPUT MESSAGES\n",
            "==================================\u001b[1m Ai Message \u001b[0m==================================\n",
            "\n",
            "Ah, Dr. Watson! Solving a mystery, as you know, involves a systematic approach. Here’s how I typically proceed:\n",
            "\n",
            "1. **Observation**: Pay close attention to the details. Everything matters, even the smallest clues.\n",
            "\n",
            "2. **Gather Evidence**: Collect all available information, including witness statements, physical evidence, and any relevant documents.\n",
            "\n",
            "3. **Analyze the Information**: Look for patterns, inconsistencies, and connections. This often involves critical thinking and logical reasoning.\n",
            "\n",
            "4. **Formulate Theories**: Based on the evidence, create hypotheses about what might have happened. \n",
            "\n",
            "5. **Test the Theories**: Seek further evidence that supports or disproves your theories. This may involve conducting experiments or interviews.\n",
            "\n",
            "6. **Draw Conclusions**: Once the evidence leads to a logical conclusion, you can present your findings.\n",
            "\n",
            "7. **Stay Objective**: It's crucial to remain unbiased and not let personal feelings influence the investigation.\n",
            "\n",
            "Remember, the key to solving a mystery lies in the details and the ability to think critically. Would you like to discuss a particular case?\n"
          ]
        }
      ],
      "source": [
        "graph_final = graph.invoke({\n",
        "  \"messages\": initial_state\n",
        "})"
      ]
    },
    {
      "cell_type": "code",
      "execution_count": null,
      "metadata": {
        "id": "xTbv2rqt5duJ",
        "outputId": "8d69508b-5914-4328-d0ed-9904c77ab0e0"
      },
      "outputs": [
        {
          "name": "stdout",
          "output_type": "stream",
          "text": [
            "==================================\u001b[1m Ai Message \u001b[0m==================================\n",
            "\n",
            "Hello, I am Sherlock Holmes.\n",
            "================================\u001b[1m Human Message \u001b[0m=================================\n",
            "\n",
            "Hi, I am John Watson. how do you solve a mystery?\n",
            "==================================\u001b[1m Ai Message \u001b[0m==================================\n",
            "\n",
            "Ah, Dr. Watson! Solving a mystery, as you know, involves a systematic approach. Here’s how I typically proceed:\n",
            "\n",
            "1. **Observation**: Pay close attention to the details. Everything matters, even the smallest clues.\n",
            "\n",
            "2. **Gather Evidence**: Collect all available information, including witness statements, physical evidence, and any relevant documents.\n",
            "\n",
            "3. **Analyze the Information**: Look for patterns, inconsistencies, and connections. This often involves critical thinking and logical reasoning.\n",
            "\n",
            "4. **Formulate Theories**: Based on the evidence, create hypotheses about what might have happened. \n",
            "\n",
            "5. **Test the Theories**: Seek further evidence that supports or disproves your theories. This may involve conducting experiments or interviews.\n",
            "\n",
            "6. **Draw Conclusions**: Once the evidence leads to a logical conclusion, you can present your findings.\n",
            "\n",
            "7. **Stay Objective**: It's crucial to remain unbiased and not let personal feelings influence the investigation.\n",
            "\n",
            "Remember, the key to solving a mystery lies in the details and the ability to think critically. Would you like to discuss a particular case?\n"
          ]
        }
      ],
      "source": [
        "for message in graph_final[\"messages\"]:\n",
        "    message.pretty_print()"
      ]
    },
    {
      "cell_type": "code",
      "execution_count": null,
      "metadata": {
        "id": "YHnPP5oF5duJ",
        "outputId": "24907f03-d0a0-44d8-9680-bb2822c00a74"
      },
      "outputs": [
        {
          "name": "stdout",
          "output_type": "stream",
          "text": [
            "################################################################################\n",
            "ENTERING LLM NODE - INPUT MESSAGES\n",
            "================================\u001b[1m Human Message \u001b[0m=================================\n",
            "\n",
            "How much is 3 times 4?\n",
            "\n",
            "################################################################################\n",
            "LEAVING LLM NODE - OUTPUT MESSAGES\n",
            "==================================\u001b[1m Ai Message \u001b[0m==================================\n",
            "Tool Calls:\n",
            "  multiply (call_WBF62PIu96bmjfg8UrRCVHG2)\n",
            " Call ID: call_WBF62PIu96bmjfg8UrRCVHG2\n",
            "  Args:\n",
            "    a: 3\n",
            "    b: 4\n"
          ]
        }
      ],
      "source": [
        "graph_final = graph.invoke({\n",
        "  \"messages\": [\n",
        "    HumanMessage(content=\"How much is 3 times 4?\")\n",
        "  ]\n",
        "})"
      ]
    },
    {
      "cell_type": "code",
      "execution_count": null,
      "metadata": {
        "id": "2eO50FhI5duJ",
        "outputId": "3964f2f3-1de8-40ef-e4cd-d5e08f914f06"
      },
      "outputs": [
        {
          "name": "stdout",
          "output_type": "stream",
          "text": [
            "================================\u001b[1m Human Message \u001b[0m=================================\n",
            "\n",
            "How much is 3 times 4?\n",
            "==================================\u001b[1m Ai Message \u001b[0m==================================\n",
            "Tool Calls:\n",
            "  multiply (call_WBF62PIu96bmjfg8UrRCVHG2)\n",
            " Call ID: call_WBF62PIu96bmjfg8UrRCVHG2\n",
            "  Args:\n",
            "    a: 3\n",
            "    b: 4\n"
          ]
        }
      ],
      "source": [
        "for m in graph_final[\"messages\"]:\n",
        "    m.pretty_print()"
      ]
    },
    {
      "cell_type": "markdown",
      "metadata": {
        "id": "Y2qVMOPX5duJ"
      },
      "source": [
        "### Routing\n",
        "\n",
        "We may need to route our flow to one of the nodes based on some condition. We can do this by defining a function that will act as the condition.\n",
        "\n",
        "Let's do this for the function calls. If the LLM returns a function call, we will route the flow to a node that will execute the function. Else, we will continue with the normal flow.\n",
        "\n",
        "A function like this would test if the last message in the history is a function call. If it is, it will send the flow to the function node. Else, it will continue with the normal flow.\n",
        "\n",
        "Luckily, langgraph provides a built-in function for this. It is called `tools_condition`. The good news don't stop there. It also provides a built-in node that will execute the function. It is called `ToolNode`. Let's use them."
      ]
    },
    {
      "cell_type": "code",
      "execution_count": null,
      "metadata": {
        "id": "rbywmvRd5duJ",
        "outputId": "338aeb36-3343-459d-fce7-93fa79fc0b64"
      },
      "outputs": [
        {
          "data": {
            "image/jpeg": "[encoded data removed]",
            "text/plain": [
              "<IPython.core.display.Image object>"
            ]
          },
          "metadata": {},
          "output_type": "display_data"
        }
      ],
      "source": [
        "from IPython.display import Image, display\n",
        "from langgraph.graph import StateGraph, START, END\n",
        "from langgraph.graph import MessagesState\n",
        "from langgraph.prebuilt import ToolNode, tools_condition\n",
        "\n",
        "# define our tools\n",
        "def multiply(a: int, b: int) -> int:\n",
        "    \"\"\"\n",
        "    Multiply two numbers\n",
        "\n",
        "    Args:\n",
        "    a: The first number\n",
        "    b: The second number\n",
        "    \"\"\"\n",
        "    return a * b\n",
        "\n",
        "tools = [multiply]\n",
        "\n",
        "# define our llm and bind the tools\n",
        "llm = ChatOpenAI(model=\"gpt-4o-mini\")\n",
        "llm_with_tools = llm.bind_tools(tools)\n",
        "\n",
        "# node\n",
        "def llm_node(state: MessagesState):\n",
        "    print(\"#\" * 80)\n",
        "    print(\"ENTERING LLM NODE - INPUT MESSAGES\")\n",
        "\n",
        "    for message in state[\"messages\"]:\n",
        "        message.pretty_print()\n",
        "    response = llm_with_tools.invoke(state[\"messages\"])\n",
        "\n",
        "    print()\n",
        "    print (\"#\" * 80)\n",
        "    print(\"LEAVING LLM NODE - OUTPUT MESSAGES\")\n",
        "\n",
        "    response.pretty_print()\n",
        "\n",
        "    return {\"messages\": [response]}\n",
        "\n",
        "# Build graph\n",
        "builder = StateGraph(MessagesState)\n",
        "builder.add_node(\"llm_node\", llm_node)\n",
        "builder.add_node(\"tools\", ToolNode(tools))\n",
        "\n",
        "builder.add_edge(START, \"llm_node\")\n",
        "builder.add_conditional_edges(\"llm_node\", tools_condition)\n",
        "builder.add_edge(\"tools\", END)\n",
        "\n",
        "graph = builder.compile()\n",
        "\n",
        "# mermaid graph\n",
        "display(Image(graph.get_graph().draw_mermaid_png()))\n"
      ]
    },
    {
      "cell_type": "code",
      "execution_count": null,
      "metadata": {
        "id": "aimCS9225duK",
        "outputId": "67a6134d-1117-4fe2-cc4d-eb98e8976bbc"
      },
      "outputs": [
        {
          "name": "stdout",
          "output_type": "stream",
          "text": [
            "################################################################################\n",
            "ENTERING LLM NODE - INPUT MESSAGES\n",
            "================================\u001b[1m Human Message \u001b[0m=================================\n",
            "\n",
            "How much is 3 times 4?\n",
            "\n",
            "################################################################################\n",
            "LEAVING LLM NODE - OUTPUT MESSAGES\n",
            "==================================\u001b[1m Ai Message \u001b[0m==================================\n",
            "Tool Calls:\n",
            "  multiply (call_OHJBcg7Njv5GjPMCEYjDjivM)\n",
            " Call ID: call_OHJBcg7Njv5GjPMCEYjDjivM\n",
            "  Args:\n",
            "    a: 3\n",
            "    b: 4\n"
          ]
        }
      ],
      "source": [
        "graph_final = graph.invoke({\n",
        "  \"messages\": [\n",
        "    HumanMessage(content=\"How much is 3 times 4?\")\n",
        "  ]\n",
        "})"
      ]
    },
    {
      "cell_type": "code",
      "execution_count": null,
      "metadata": {
        "id": "8SqO_cbb5duK",
        "outputId": "22cafdd1-1030-487e-a253-57b3843ac024"
      },
      "outputs": [
        {
          "data": {
            "image/jpeg": "[encoded data removed]",
            "text/plain": [
              "<IPython.core.display.Image object>"
            ]
          },
          "metadata": {},
          "output_type": "display_data"
        }
      ],
      "source": [
        "from IPython.display import Image, display\n",
        "from langgraph.graph import StateGraph, START, END\n",
        "from langgraph.graph import MessagesState\n",
        "from langgraph.prebuilt import ToolNode, tools_condition\n",
        "\n",
        "# define our tools\n",
        "def celsius_to_fahrenheit(celsius: float) -> float:\n",
        "    \"\"\"\n",
        "    Convert Celsius to Fahrenheit\n",
        "\n",
        "    Args:\n",
        "    celsius: The temperature in Celsius\n",
        "    \"\"\"\n",
        "    return celsius * 9/5 + 32\n",
        "\n",
        "def get_temperature(city: str) -> float:\n",
        "    \"\"\"\n",
        "    Get the temperature of a city in Celsius\n",
        "\n",
        "    Args:\n",
        "    city: The name of the city\n",
        "    \"\"\"\n",
        "    if city.lower() == \"berlin\":\n",
        "        return 20\n",
        "    if city.lower() == \"paris\":\n",
        "        return 22\n",
        "    if city.lower() == \"san francisco\":\n",
        "        return 25\n",
        "    return 30\n",
        "\n",
        "tools = [celsius_to_fahrenheit, get_temperature]\n",
        "\n",
        "# define our llm and bind the tools\n",
        "llm = ChatOpenAI(model=\"gpt-4o-mini\")\n",
        "llm_with_tools = llm.bind_tools(tools)\n",
        "\n",
        "# node\n",
        "def llm_node(state: MessagesState):\n",
        "    print(\"#\" * 80)\n",
        "    print(\"ENTERING LLM NODE - INPUT MESSAGES\")\n",
        "\n",
        "    for message in state[\"messages\"]:\n",
        "        message.pretty_print()\n",
        "    response = llm_with_tools.invoke(state[\"messages\"])\n",
        "\n",
        "    print()\n",
        "    print (\"#\" * 80)\n",
        "    print(\"LEAVING LLM NODE - OUTPUT MESSAGES\")\n",
        "\n",
        "    response.pretty_print()\n",
        "\n",
        "    return {\"messages\": [response]}\n",
        "\n",
        "# Build graph\n",
        "builder = StateGraph(MessagesState)\n",
        "builder.add_node(\"llm_node\", llm_node)\n",
        "builder.add_node(\"tools\", ToolNode(tools))\n",
        "\n",
        "builder.add_edge(START, \"llm_node\")\n",
        "builder.add_conditional_edges(\"llm_node\", tools_condition)\n",
        "builder.add_edge(\"tools\", \"llm_node\")\n",
        "\n",
        "graph = builder.compile()\n",
        "\n",
        "# mermaid graph\n",
        "display(Image(graph.get_graph().draw_mermaid_png()))\n"
      ]
    },
    {
      "cell_type": "code",
      "execution_count": null,
      "metadata": {
        "id": "m5I5Ns2C5duK",
        "outputId": "d650cf54-deb3-4fba-f681-aabc635f1089"
      },
      "outputs": [
        {
          "name": "stdout",
          "output_type": "stream",
          "text": [
            "################################################################################\n",
            "ENTERING LLM NODE - INPUT MESSAGES\n",
            "================================\u001b[1m Human Message \u001b[0m=================================\n",
            "\n",
            "What is the temperature of paris in fahrenheit?\n",
            "\n",
            "################################################################################\n",
            "LEAVING LLM NODE - OUTPUT MESSAGES\n",
            "==================================\u001b[1m Ai Message \u001b[0m==================================\n",
            "Tool Calls:\n",
            "  get_temperature (call_7kYaXS1EsfB3fR6Fh8tWwq31)\n",
            " Call ID: call_7kYaXS1EsfB3fR6Fh8tWwq31\n",
            "  Args:\n",
            "    city: Paris\n",
            "################################################################################\n",
            "ENTERING LLM NODE - INPUT MESSAGES\n",
            "================================\u001b[1m Human Message \u001b[0m=================================\n",
            "\n",
            "What is the temperature of paris in fahrenheit?\n",
            "==================================\u001b[1m Ai Message \u001b[0m==================================\n",
            "Tool Calls:\n",
            "  get_temperature (call_7kYaXS1EsfB3fR6Fh8tWwq31)\n",
            " Call ID: call_7kYaXS1EsfB3fR6Fh8tWwq31\n",
            "  Args:\n",
            "    city: Paris\n",
            "=================================\u001b[1m Tool Message \u001b[0m=================================\n",
            "Name: get_temperature\n",
            "\n",
            "22\n",
            "\n",
            "################################################################################\n",
            "LEAVING LLM NODE - OUTPUT MESSAGES\n",
            "==================================\u001b[1m Ai Message \u001b[0m==================================\n",
            "Tool Calls:\n",
            "  celsius_to_fahrenheit (call_FccAiMyiNOoCUMvrTD5ZpP8B)\n",
            " Call ID: call_FccAiMyiNOoCUMvrTD5ZpP8B\n",
            "  Args:\n",
            "    celsius: 22\n",
            "################################################################################\n",
            "ENTERING LLM NODE - INPUT MESSAGES\n",
            "================================\u001b[1m Human Message \u001b[0m=================================\n",
            "\n",
            "What is the temperature of paris in fahrenheit?\n",
            "==================================\u001b[1m Ai Message \u001b[0m==================================\n",
            "Tool Calls:\n",
            "  get_temperature (call_7kYaXS1EsfB3fR6Fh8tWwq31)\n",
            " Call ID: call_7kYaXS1EsfB3fR6Fh8tWwq31\n",
            "  Args:\n",
            "    city: Paris\n",
            "=================================\u001b[1m Tool Message \u001b[0m=================================\n",
            "Name: get_temperature\n",
            "\n",
            "22\n",
            "==================================\u001b[1m Ai Message \u001b[0m==================================\n",
            "Tool Calls:\n",
            "  celsius_to_fahrenheit (call_FccAiMyiNOoCUMvrTD5ZpP8B)\n",
            " Call ID: call_FccAiMyiNOoCUMvrTD5ZpP8B\n",
            "  Args:\n",
            "    celsius: 22\n",
            "=================================\u001b[1m Tool Message \u001b[0m=================================\n",
            "Name: celsius_to_fahrenheit\n",
            "\n",
            "71.6\n",
            "\n",
            "################################################################################\n",
            "LEAVING LLM NODE - OUTPUT MESSAGES\n",
            "==================================\u001b[1m Ai Message \u001b[0m==================================\n",
            "\n",
            "The temperature in Paris is 71.6°F.\n"
          ]
        }
      ],
      "source": [
        "graph_final = graph.invoke({\n",
        "  \"messages\": [\n",
        "    HumanMessage(content=\"What is the temperature of paris in fahrenheit?\")\n",
        "  ]\n",
        "})"
      ]
    },
    {
      "cell_type": "code",
      "execution_count": null,
      "metadata": {
        "id": "IGTdpNPm5duK",
        "outputId": "d3045538-f943-4581-e6fe-dfe361d23034"
      },
      "outputs": [
        {
          "name": "stdout",
          "output_type": "stream",
          "text": [
            "================================\u001b[1m Human Message \u001b[0m=================================\n",
            "\n",
            "What is the temperature of paris in fahrenheit?\n",
            "==================================\u001b[1m Ai Message \u001b[0m==================================\n",
            "Tool Calls:\n",
            "  get_temperature (call_7kYaXS1EsfB3fR6Fh8tWwq31)\n",
            " Call ID: call_7kYaXS1EsfB3fR6Fh8tWwq31\n",
            "  Args:\n",
            "    city: Paris\n",
            "=================================\u001b[1m Tool Message \u001b[0m=================================\n",
            "Name: get_temperature\n",
            "\n",
            "22\n",
            "==================================\u001b[1m Ai Message \u001b[0m==================================\n",
            "Tool Calls:\n",
            "  celsius_to_fahrenheit (call_FccAiMyiNOoCUMvrTD5ZpP8B)\n",
            " Call ID: call_FccAiMyiNOoCUMvrTD5ZpP8B\n",
            "  Args:\n",
            "    celsius: 22\n",
            "=================================\u001b[1m Tool Message \u001b[0m=================================\n",
            "Name: celsius_to_fahrenheit\n",
            "\n",
            "71.6\n",
            "==================================\u001b[1m Ai Message \u001b[0m==================================\n",
            "\n",
            "The temperature in Paris is 71.6°F.\n"
          ]
        }
      ],
      "source": [
        "for m in graph_final[\"messages\"]:\n",
        "    m.pretty_print()"
      ]
    }
  ],
  "metadata": {
    "kernelspec": {
      "display_name": "langgraph-course",
      "language": "python",
      "name": "python3"
    },
    "language_info": {
      "codemirror_mode": {
        "name": "ipython",
        "version": 3
      },
      "file_extension": ".py",
      "mimetype": "text/x-python",
      "name": "python",
      "nbconvert_exporter": "python",
      "pygments_lexer": "ipython3",
      "version": "3.12.7"
    },
    "colab": {
      "provenance": []
    }
  },
  "nbformat": 4,
  "nbformat_minor": 0
}